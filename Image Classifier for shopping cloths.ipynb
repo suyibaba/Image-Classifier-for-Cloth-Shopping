{
 "cells": [
  {
   "cell_type": "code",
   "execution_count": 3,
   "id": "71216f5e",
   "metadata": {},
   "outputs": [],
   "source": [
    "import numpy as np\n",
    "import pandas as pd\n",
    "%matplotlib inline\n",
    "import matplotlib as mpl\n",
    "import matplotlib.pyplot as plt"
   ]
  },
  {
   "cell_type": "code",
   "execution_count": 4,
   "id": "1764b6eb",
   "metadata": {},
   "outputs": [],
   "source": [
    "import tensorflow as tf"
   ]
  },
  {
   "cell_type": "code",
   "execution_count": 5,
   "id": "42bce5db",
   "metadata": {},
   "outputs": [],
   "source": [
    "from tensorflow import keras "
   ]
  },
  {
   "cell_type": "code",
   "execution_count": 6,
   "id": "ed83d61c",
   "metadata": {},
   "outputs": [
    {
     "data": {
      "text/plain": [
       "'2.10.0'"
      ]
     },
     "execution_count": 6,
     "metadata": {},
     "output_type": "execute_result"
    }
   ],
   "source": [
    "keras.__version__"
   ]
  },
  {
   "cell_type": "code",
   "execution_count": 7,
   "id": "14d80c68",
   "metadata": {},
   "outputs": [
    {
     "data": {
      "text/plain": [
       "'2.10.0'"
      ]
     },
     "execution_count": 7,
     "metadata": {},
     "output_type": "execute_result"
    }
   ],
   "source": [
    "tf.__version__"
   ]
  },
  {
   "cell_type": "code",
   "execution_count": 8,
   "id": "4c4d9c00",
   "metadata": {},
   "outputs": [],
   "source": [
    "fashion_mnist = keras.datasets.fashion_mnist\n",
    "(X_train_full, y_train_full),(X_test, y_test) = fashion_mnist.load_data()"
   ]
  },
  {
   "cell_type": "code",
   "execution_count": 14,
   "id": "1bd4955b",
   "metadata": {},
   "outputs": [
    {
     "data": {
      "text/plain": [
       "<matplotlib.image.AxesImage at 0x17e8f5c5ac0>"
      ]
     },
     "execution_count": 14,
     "metadata": {},
     "output_type": "execute_result"
    },
    {
     "data": {
      "image/png": "[encoded data removed]",
      "text/plain": [
       "<Figure size 432x288 with 1 Axes>"
      ]
     },
     "metadata": {
      "needs_background": "light"
     },
     "output_type": "display_data"
    }
   ],
   "source": [
    "#to view the data use plt.imshow\n",
    "plt.imshow(X_train_full[0])"
   ]
  },
  {
   "cell_type": "code",
   "execution_count": 10,
   "id": "551233fe",
   "metadata": {},
   "outputs": [
    {
     "data": {
      "text/plain": [
       "0"
      ]
     },
     "execution_count": 10,
     "metadata": {},
     "output_type": "execute_result"
    }
   ],
   "source": [
    "y_train_full[1]"
   ]
  },
  {
   "cell_type": "code",
   "execution_count": 11,
   "id": "2eea339b",
   "metadata": {},
   "outputs": [],
   "source": [
    "class_names = [\"T-shirt\",\"Trouser\",\"Pullover\",\"Dress\",\"Coat\",\"Sandal\",\"Shirt\",\"Sneaker\",\"Bag\",\"Ankle boot\"]"
   ]
  },
  {
   "cell_type": "code",
   "execution_count": 12,
   "id": "8bca9b85",
   "metadata": {},
   "outputs": [
    {
     "data": {
      "text/plain": [
       "'T-shirt'"
      ]
     },
     "execution_count": 12,
     "metadata": {},
     "output_type": "execute_result"
    }
   ],
   "source": [
    "class_names[y_train_full[10]]"
   ]
  },
  {
   "cell_type": "code",
   "execution_count": 13,
   "id": "a338d0e9",
   "metadata": {},
   "outputs": [
    {
     "data": {
      "text/plain": [
       "array([[  0,   0,   0,   0,   0,   0,   0,   0,   0,   0,   0,   0,   0,\n",
       "          0,   0,   0,   0,   0,   0,   0,   0,   0,   0,   0,   0,   0,\n",
       "          0,   0],\n",
       "       [  0,   0,   0,   0,   0,   0,   0,   0,   0,   0,   0,   0,   0,\n",
       "          0,   0,   0,   0,   0,   0,   0,   0,   0,   0,   0,   0,   0,\n",
       "          0,   0],\n",
       "       [  0,   0,   0,   0,   0,   0,   0,   0,   0,   0,   0,   0,   0,\n",
       "          1,   1,   0,   0,   0,   0,   0,   0,   0, 164,  50,   0,   7,\n",
       "          0,   0],\n",
       "       [  0,   0,   0,   0,   0,   0,   0,   0,   1,   0,   0,   1,   0,\n",
       "          0,   1,   1,   0,   0,   5,   0,  45, 217, 255, 176,   0,   6,\n",
       "          0,   0],\n",
       "       [  0,   0,   0,   0,   0,   0,   0,   0,   0,   1,   1,   0,   3,\n",
       "          3,   5,   9,   0,   2,   0,  62, 236, 231, 215,  27,   0,   1,\n",
       "          0,   0],\n",
       "       [  0,   0,   0,   0,   0,   0,   0,   0,   0,   0,   0,   0,   0,\n",
       "          0,   0,   0,   0,   0,  29, 244, 231, 234,  74,   0,   1,   0,\n",
       "          0,   0],\n",
       "       [  0,   0,   0,   0,   0,   0,   0,   0,   0,   2,   0,   0,   0,\n",
       "         23,  41,  59, 111, 134, 138, 226, 202, 217,  22,   0,   1,   0,\n",
       "          0,   0],\n",
       "       [  0,   0,   0,   0,   0,   0,   0,   0,   0,   5,   0,  35, 179,\n",
       "        195, 182, 225, 198, 241, 177, 199, 205, 210,  26,   0,   1,   0,\n",
       "          0,   3],\n",
       "       [  0,   0,   0,   0,   0,   0,   0,   0,   0,   0,   0,   0,  19,\n",
       "          0,   0,   0,   0,   0, 235, 243, 198, 119,   0,   3,   1,   3,\n",
       "          4,   0],\n",
       "       [  0,   0,   0,   0,   0,   0,   0,   0,   0,   0,   0,   0,   0,\n",
       "          2,   5,   0,   0,   0, 170, 252, 181, 182,   0,   0,   0,   0,\n",
       "          0,  19],\n",
       "       [  0,   0,   0,   0,   0,   0,   0,   0,   0,   0,   0,   0,   1,\n",
       "          1,   0,   0,   4,   0,  76, 255, 183, 219,   9,   0,   0,  42,\n",
       "        191, 164],\n",
       "       [  0,   0,   0,   0,   0,   0,   0,   0,   0,   0,   0,   0,   0,\n",
       "          0,   0,   0,   2,   0,   0, 237, 198, 204,  75,  47, 221, 221,\n",
       "        238,  25],\n",
       "       [  0,   0,   0,   0,   0,   0,   0,   0,   0,   0,   0,   1,   0,\n",
       "          0,   1,   2,   1,   0,   0, 209, 212, 229, 255, 254, 232, 227,\n",
       "        174,   0],\n",
       "       [  0,   0,   0,   0,   0,   0,   0,   0,   0,   0,   0,   0,   0,\n",
       "          0,   1,   0,   0,   0,   0,   0, 210, 255,  87, 101, 230, 238,\n",
       "        105,   0],\n",
       "       [  0,   0,   0,   0,   0,   0,   0,   0,   0,   0,   0,   0,   0,\n",
       "          1,   0,   4,   1,   0,   1, 250, 236,   0,   0,   0, 224, 233,\n",
       "         20,   0],\n",
       "       [  0,   0,   0,   0,   0,   1,   3,   4,   4,   2,   0,   0,   0,\n",
       "          1,   0,   2,   0,   0, 204, 185,   0,   0,   0,   6, 227, 202,\n",
       "          0,   0],\n",
       "       [  0,   1,   0,   1,   0,   0,   0,   0,   0,   0,   0,   0,   0,\n",
       "          1,   0,   0,   0, 173, 159,   0,   0,   2,   0,  10, 237, 153,\n",
       "          0,   0],\n",
       "       [  0,   0,   1,   0,   0,   0,   0,  40, 138,  21,   0,   0,   2,\n",
       "          0,   8,   0, 132, 195,   0,   0,   0,   0,   0,   8, 240, 118,\n",
       "          0,   1],\n",
       "       [  5,   6,   4,   0, 132, 232, 208, 208, 241, 217,   0,   0,   0,\n",
       "          1,   0,  29, 217,  35,   0,   9,   0,   2,   0,  25, 238,  58,\n",
       "          0,   2],\n",
       "       [  0,   0,   0,   0, 181, 255, 231, 233, 219, 238,  77,   0,   0,\n",
       "          0,   0, 196, 145,   0,   0,   0,   0,   2,   0,  49, 228,   0,\n",
       "          0,   2],\n",
       "       [ 62,  92,   8,   0, 207, 255, 216, 198, 189, 208, 221,   0,   0,\n",
       "          0, 177, 239,  19,   0,   0,   0,   0,   2,   0,  64, 218,   0,\n",
       "          0,   3],\n",
       "       [ 96, 249, 223, 211, 237, 243, 211, 228, 255, 252, 255, 138,  38,\n",
       "        175, 242, 173,   0,   0,   0,   0,   0,   2,   0,  89, 204,   0,\n",
       "          0,   2],\n",
       "       [  0, 197, 240, 240, 237, 219, 222, 244, 235, 243, 244, 255, 255,\n",
       "        234, 233,  45,   0,   2,   0,   0,   0,   2,   0, 105, 188,   0,\n",
       "          0,   0],\n",
       "       [  0, 165, 253, 224, 229, 242, 244, 232, 239, 242, 243, 237, 230,\n",
       "        230, 207,   0,   0,   1,   0,   0,   0,   9,   0, 120, 165,   0,\n",
       "          8,   0],\n",
       "       [  0,  45, 255, 252, 253, 241, 229, 223, 230, 235, 240, 239, 233,\n",
       "        245,  65,   0,   2,   0,   0,   0,   0,  10,   0, 128, 143,   0,\n",
       "         10,   0],\n",
       "       [  0,   0,   0,  72, 202, 255, 255, 255, 255, 255, 255, 255, 255,\n",
       "        194,   0,   0,   2,   0,   0,   0,   0,   8,   0, 186, 160,   0,\n",
       "          9,   0],\n",
       "       [  0,   0,   0,   0,   0,   0,  38,  89, 135, 162, 180, 179, 152,\n",
       "          0,   0,   1,   0,   0,   0,   0,   0,   1,   0,  68,  29,   0,\n",
       "          3,   0],\n",
       "       [  0,   0,   0,   0,   0,   0,   0,   0,   0,   0,   0,   0,   0,\n",
       "          0,   0,   0,   0,   0,   0,   0,   0,   0,   0,   0,   0,   0,\n",
       "          0,   0]], dtype=uint8)"
      ]
     },
     "execution_count": 13,
     "metadata": {},
     "output_type": "execute_result"
    }
   ],
   "source": [
    "X_train_full[9]"
   ]
  },
  {
   "cell_type": "markdown",
   "id": "6b18ec48",
   "metadata": {},
   "source": [
    "# NORMALIZING OUR DATA"
   ]
  },
  {
   "cell_type": "code",
   "execution_count": 15,
   "id": "114ab5ad",
   "metadata": {},
   "outputs": [],
   "source": [
    "# i then normalize the data dimensions so that they are of approximately the same scale.  \n",
    "divide all pixel intensity by 255"
   ]
  },
  {
   "cell_type": "code",
   "execution_count": 21,
   "id": "8d102466",
   "metadata": {},
   "outputs": [],
   "source": [
    "X_train_n = X_train_full/255.0\n",
    "X_test_n = X_test / 255.0"
   ]
  },
  {
   "cell_type": "code",
   "execution_count": 20,
   "id": "53782496",
   "metadata": {},
   "outputs": [
    {
     "data": {
      "text/plain": [
       "array([[0.        , 0.        , 0.        , 0.        , 0.        ,\n",
       "        0.        , 0.        , 0.        , 0.00392157, 0.        ,\n",
       "        0.        , 0.06666667, 0.        , 0.1372549 , 0.21568627,\n",
       "        0.20392157, 0.17647059, 0.        , 0.        , 0.        ,\n",
       "        0.        , 0.        , 0.        , 0.        , 0.        ,\n",
       "        0.        , 0.        , 0.        ],\n",
       "       [0.        , 0.        , 0.        , 0.        , 0.        ,\n",
       "        0.        , 0.        , 0.01176471, 0.        , 0.00392157,\n",
       "        0.98039216, 1.        , 0.96078431, 0.99607843, 0.93333333,\n",
       "        0.95686275, 0.9372549 , 0.54117647, 0.        , 0.        ,\n",
       "        0.        , 0.        , 0.        , 0.        , 0.        ,\n",
       "        0.        , 0.        , 0.        ],\n",
       "       [0.        , 0.        , 0.        , 0.        , 0.        ,\n",
       "        0.        , 0.        , 0.        , 0.        , 0.34509804,\n",
       "        0.48627451, 0.66666667, 0.99607843, 0.54117647, 0.73333333,\n",
       "        1.        , 0.73333333, 0.1254902 , 0.01568627, 0.        ,\n",
       "        0.00392157, 0.        , 0.        , 0.        , 0.        ,\n",
       "        0.        , 0.        , 0.        ],\n",
       "       [0.        , 0.        , 0.        , 0.        , 0.        ,\n",
       "        0.        , 0.        , 0.        , 0.        , 0.32941176,\n",
       "        0.38431373, 0.        , 0.71372549, 0.82352941, 0.95294118,\n",
       "        1.        , 0.14509804, 0.        , 0.        , 0.        ,\n",
       "        0.        , 0.        , 0.        , 0.        , 0.        ,\n",
       "        0.        , 0.        , 0.        ],\n",
       "       [0.        , 0.        , 0.        , 0.        , 0.00392157,\n",
       "        0.        , 0.02352941, 0.21960784, 0.28235294, 0.35686275,\n",
       "        0.52156863, 0.16862745, 0.        , 0.94117647, 0.85490196,\n",
       "        0.        , 0.        , 0.15294118, 0.18039216, 0.07843137,\n",
       "        0.09803922, 0.00784314, 0.        , 0.        , 0.        ,\n",
       "        0.        , 0.        , 0.        ],\n",
       "       [0.        , 0.        , 0.        , 0.        , 0.        ,\n",
       "        0.        , 0.18823529, 0.42745098, 0.2745098 , 0.21176471,\n",
       "        0.17254902, 0.27843137, 0.21960784, 0.25098039, 0.05882353,\n",
       "        0.07843137, 0.11372549, 0.10980392, 0.22745098, 0.22352941,\n",
       "        0.2       , 0.07843137, 0.        , 0.        , 0.        ,\n",
       "        0.        , 0.        , 0.        ],\n",
       "       [0.        , 0.        , 0.        , 0.        , 0.        ,\n",
       "        0.        , 0.25490196, 0.28627451, 0.32156863, 0.19215686,\n",
       "        0.22745098, 0.20392157, 0.1254902 , 0.32941176, 0.27058824,\n",
       "        0.09803922, 0.19607843, 0.24705882, 0.18039216, 0.10588235,\n",
       "        0.09803922, 0.11372549, 0.        , 0.        , 0.        ,\n",
       "        0.        , 0.        , 0.        ],\n",
       "       [0.        , 0.        , 0.        , 0.        , 0.        ,\n",
       "        0.04705882, 0.30588235, 0.20784314, 0.51372549, 0.14509804,\n",
       "        0.22352941, 0.20392157, 0.07843137, 0.35294118, 0.30588235,\n",
       "        0.07843137, 0.20784314, 0.24313725, 0.14117647, 0.06666667,\n",
       "        0.10588235, 0.15294118, 0.        , 0.        , 0.        ,\n",
       "        0.        , 0.        , 0.        ],\n",
       "       [0.        , 0.        , 0.        , 0.        , 0.        ,\n",
       "        0.10980392, 0.33333333, 0.11372549, 0.60392157, 0.22745098,\n",
       "        0.18431373, 0.16862745, 0.04705882, 0.29803922, 0.27843137,\n",
       "        0.08235294, 0.13333333, 0.0745098 , 0.08235294, 0.0745098 ,\n",
       "        0.12941176, 0.16862745, 0.02745098, 0.        , 0.        ,\n",
       "        0.        , 0.        , 0.        ],\n",
       "       [0.        , 0.        , 0.        , 0.        , 0.        ,\n",
       "        0.16862745, 0.30980392, 0.05098039, 0.5372549 , 0.25490196,\n",
       "        0.16078431, 0.16470588, 0.03921569, 0.32941176, 0.2627451 ,\n",
       "        0.05098039, 0.11372549, 0.10980392, 0.07058824, 0.16078431,\n",
       "        0.17647059, 0.11372549, 0.08235294, 0.        , 0.        ,\n",
       "        0.        , 0.        , 0.        ],\n",
       "       [0.        , 0.        , 0.        , 0.        , 0.        ,\n",
       "        0.20784314, 0.28627451, 0.03921569, 0.57254902, 0.33333333,\n",
       "        0.16862745, 0.16470588, 0.03529412, 0.32941176, 0.24705882,\n",
       "        0.0627451 , 0.12156863, 0.09411765, 0.05490196, 0.12941176,\n",
       "        0.11372549, 0.11372549, 0.05098039, 0.        , 0.        ,\n",
       "        0.        , 0.        , 0.        ],\n",
       "       [0.        , 0.        , 0.        , 0.        , 0.        ,\n",
       "        0.23921569, 0.2745098 , 0.00784314, 0.6627451 , 0.4       ,\n",
       "        0.10980392, 0.18431373, 0.05882353, 0.31372549, 0.23529412,\n",
       "        0.03921569, 0.11372549, 0.10196078, 0.        , 0.30196078,\n",
       "        0.10980392, 0.10588235, 0.05490196, 0.        , 0.        ,\n",
       "        0.        , 0.        , 0.        ],\n",
       "       [0.        , 0.        , 0.        , 0.        , 0.        ,\n",
       "        0.2627451 , 0.23529412, 0.01176471, 0.71764706, 0.30588235,\n",
       "        0.17254902, 0.18039216, 0.05098039, 0.29411765, 0.24313725,\n",
       "        0.03529412, 0.09411765, 0.10980392, 0.        , 0.63137255,\n",
       "        0.15294118, 0.05098039, 0.08235294, 0.        , 0.        ,\n",
       "        0.        , 0.        , 0.        ],\n",
       "       [0.        , 0.        , 0.        , 0.        , 0.        ,\n",
       "        0.29019608, 0.19607843, 0.01568627, 0.87058824, 0.2745098 ,\n",
       "        0.14509804, 0.18039216, 0.0627451 , 0.29411765, 0.25490196,\n",
       "        0.02745098, 0.10196078, 0.0627451 , 0.        , 0.94901961,\n",
       "        0.18039216, 0.02745098, 0.09803922, 0.        , 0.        ,\n",
       "        0.        , 0.        , 0.        ],\n",
       "       [0.        , 0.        , 0.        , 0.        , 0.        ,\n",
       "        0.28627451, 0.14117647, 0.04313725, 1.        , 0.22352941,\n",
       "        0.17254902, 0.21176471, 0.04313725, 0.29019608, 0.24705882,\n",
       "        0.01568627, 0.10196078, 0.02352941, 0.00392157, 0.85490196,\n",
       "        0.28627451, 0.        , 0.10588235, 0.        , 0.        ,\n",
       "        0.        , 0.        , 0.        ],\n",
       "       [0.        , 0.        , 0.        , 0.        , 0.03137255,\n",
       "        0.29411765, 0.11372549, 0.09803922, 1.        , 0.2627451 ,\n",
       "        0.18039216, 0.19607843, 0.02352941, 0.30980392, 0.24705882,\n",
       "        0.03137255, 0.09803922, 0.        , 0.10588235, 0.95686275,\n",
       "        0.39607843, 0.        , 0.11372549, 0.        , 0.        ,\n",
       "        0.        , 0.        , 0.        ],\n",
       "       [0.        , 0.        , 0.        , 0.        , 0.04313725,\n",
       "        0.29411765, 0.05882353, 0.20784314, 1.        , 0.22745098,\n",
       "        0.15294118, 0.19215686, 0.07058824, 0.29803922, 0.25490196,\n",
       "        0.02352941, 0.10588235, 0.01568627, 0.        , 0.8627451 ,\n",
       "        0.54117647, 0.        , 0.10980392, 0.01176471, 0.        ,\n",
       "        0.        , 0.        , 0.        ],\n",
       "       [0.        , 0.        , 0.        , 0.        , 0.04313725,\n",
       "        0.29019608, 0.01960784, 0.40392157, 0.99607843, 0.19215686,\n",
       "        0.18823529, 0.18039216, 0.05098039, 0.28627451, 0.25490196,\n",
       "        0.00784314, 0.09803922, 0.01960784, 0.        , 0.81960784,\n",
       "        0.69411765, 0.        , 0.11764706, 0.02745098, 0.        ,\n",
       "        0.        , 0.        , 0.        ],\n",
       "       [0.        , 0.        , 0.        , 0.        , 0.0627451 ,\n",
       "        0.29411765, 0.01568627, 0.4745098 , 1.        , 0.14117647,\n",
       "        0.18431373, 0.20392157, 0.0627451 , 0.2627451 , 0.27058824,\n",
       "        0.00784314, 0.08627451, 0.05490196, 0.        , 0.74509804,\n",
       "        0.70980392, 0.        , 0.10980392, 0.03137255, 0.        ,\n",
       "        0.        , 0.        , 0.        ],\n",
       "       [0.        , 0.        , 0.        , 0.        , 0.08627451,\n",
       "        0.30588235, 0.        , 0.50980392, 0.99607843, 0.08235294,\n",
       "        0.23137255, 0.22745098, 0.10980392, 0.29019608, 0.28235294,\n",
       "        0.00392157, 0.10588235, 0.09411765, 0.        , 0.68627451,\n",
       "        0.8       , 0.        , 0.09411765, 0.03921569, 0.        ,\n",
       "        0.        , 0.        , 0.        ],\n",
       "       [0.        , 0.        , 0.        , 0.        , 0.09019608,\n",
       "        0.30196078, 0.        , 0.60784314, 0.85490196, 0.07843137,\n",
       "        0.22352941, 0.20784314, 0.09411765, 0.2745098 , 0.28627451,\n",
       "        0.00784314, 0.10588235, 0.08627451, 0.        , 0.5254902 ,\n",
       "        0.83921569, 0.        , 0.07843137, 0.04705882, 0.        ,\n",
       "        0.        , 0.        , 0.        ],\n",
       "       [0.        , 0.        , 0.        , 0.        , 0.09411765,\n",
       "        0.29411765, 0.        , 0.7254902 , 0.74509804, 0.08235294,\n",
       "        0.25098039, 0.23137255, 0.12941176, 0.28235294, 0.28235294,\n",
       "        0.01568627, 0.10196078, 0.12156863, 0.        , 0.47843137,\n",
       "        0.85490196, 0.01176471, 0.06666667, 0.0627451 , 0.        ,\n",
       "        0.        , 0.        , 0.        ],\n",
       "       [0.        , 0.        , 0.        , 0.        , 0.09411765,\n",
       "        0.31764706, 0.        , 0.76078431, 0.61568627, 0.07058824,\n",
       "        0.22352941, 0.21960784, 0.11764706, 0.27843137, 0.30196078,\n",
       "        0.01568627, 0.09019608, 0.10196078, 0.        , 0.43529412,\n",
       "        0.89019608, 0.05098039, 0.05098039, 0.0745098 , 0.        ,\n",
       "        0.        , 0.        , 0.        ],\n",
       "       [0.        , 0.        , 0.        , 0.        , 0.1254902 ,\n",
       "        0.30588235, 0.        , 0.88627451, 0.53333333, 0.2       ,\n",
       "        0.32156863, 0.28627451, 0.15294118, 0.29411765, 0.31372549,\n",
       "        0.03137255, 0.10980392, 0.12941176, 0.        , 0.4       ,\n",
       "        0.94901961, 0.0627451 , 0.04705882, 0.0745098 , 0.        ,\n",
       "        0.        , 0.        , 0.        ],\n",
       "       [0.        , 0.        , 0.        , 0.        , 0.14117647,\n",
       "        0.2745098 , 0.01176471, 0.91764706, 0.32941176, 0.20392157,\n",
       "        0.29411765, 0.29411765, 0.22352941, 0.25098039, 0.25882353,\n",
       "        0.0745098 , 0.16078431, 0.15294118, 0.03137255, 0.20392157,\n",
       "        0.85490196, 0.17647059, 0.02352941, 0.06666667, 0.        ,\n",
       "        0.        , 0.        , 0.        ],\n",
       "       [0.        , 0.        , 0.        , 0.        , 0.1372549 ,\n",
       "        0.27058824, 0.11372549, 0.94117647, 0.        , 0.        ,\n",
       "        0.        , 0.        , 0.        , 0.        , 0.        ,\n",
       "        0.        , 0.        , 0.        , 0.        , 0.        ,\n",
       "        0.89803922, 0.43529412, 0.        , 0.06666667, 0.        ,\n",
       "        0.        , 0.        , 0.        ],\n",
       "       [0.        , 0.        , 0.        , 0.        , 0.25882353,\n",
       "        0.32941176, 0.17647059, 0.45098039, 0.        , 0.        ,\n",
       "        0.        , 0.        , 0.        , 0.        , 0.        ,\n",
       "        0.        , 0.        , 0.        , 0.        , 0.        ,\n",
       "        0.46666667, 0.30588235, 0.09411765, 0.10196078, 0.        ,\n",
       "        0.        , 0.        , 0.        ],\n",
       "       [0.        , 0.        , 0.        , 0.        , 0.21176471,\n",
       "        0.27843137, 0.12156863, 0.2       , 0.        , 0.        ,\n",
       "        0.00392157, 0.        , 0.        , 0.        , 0.        ,\n",
       "        0.        , 0.        , 0.        , 0.        , 0.        ,\n",
       "        0.14117647, 0.11764706, 0.10588235, 0.10588235, 0.        ,\n",
       "        0.        , 0.        , 0.        ]])"
      ]
     },
     "execution_count": 20,
     "metadata": {},
     "output_type": "execute_result"
    }
   ],
   "source": [
    "X_test_n[6]"
   ]
  },
  {
   "cell_type": "markdown",
   "id": "edf3d65b",
   "metadata": {},
   "source": [
    "# SPLIT THE DATA INTO TRAIN/VALIDATION/TEST DATASETS"
   ]
  },
  {
   "cell_type": "code",
   "execution_count": 26,
   "id": "e872c2ad",
   "metadata": {},
   "outputs": [],
   "source": [
    "#in the earlier step of importing date, i had 60,000 datasets for training and 10,000 test datasets. I further split the data into train/validation. validation data is used for tuning the hyperparameters and evaluate the models, IT IS used to optimized the performance of our models."
   ]
  },
  {
   "cell_type": "code",
   "execution_count": 23,
   "id": "977e5793",
   "metadata": {},
   "outputs": [],
   "source": [
    "X_valid, X_train = X_train_n[:5000],X_train_n[5000:]\n",
    "y_valid, y_train = y_train_full[:5000], y_train_full[5000:]\n",
    "X_test = X_test_n"
   ]
  },
  {
   "cell_type": "code",
   "execution_count": 25,
   "id": "011331f0",
   "metadata": {},
   "outputs": [
    {
     "data": {
      "text/plain": [
       "array([[0.        , 0.        , 0.        , 0.        , 0.        ,\n",
       "        0.        , 0.        , 0.        , 0.        , 0.08235294,\n",
       "        0.48235294, 0.42352941, 0.38823529, 0.38823529, 0.32941176,\n",
       "        0.3254902 , 0.3372549 , 0.36078431, 0.2745098 , 0.02352941,\n",
       "        0.        , 0.        , 0.        , 0.        , 0.        ,\n",
       "        0.        , 0.        , 0.        ],\n",
       "       [0.        , 0.        , 0.        , 0.        , 0.        ,\n",
       "        0.        , 0.        , 0.        , 0.        , 0.41568627,\n",
       "        0.97254902, 0.90196078, 0.80392157, 0.9372549 , 0.83137255,\n",
       "        0.68235294, 0.84313725, 0.81176471, 0.54509804, 0.36470588,\n",
       "        0.        , 0.        , 0.        , 0.        , 0.        ,\n",
       "        0.        , 0.        , 0.        ],\n",
       "       [0.        , 0.        , 0.        , 0.        , 0.        ,\n",
       "        0.        , 0.        , 0.        , 0.        , 0.49803922,\n",
       "        0.84705882, 0.83529412, 0.80392157, 0.83921569, 0.83921569,\n",
       "        0.75686275, 0.89803922, 0.78823529, 0.64705882, 0.38823529,\n",
       "        0.        , 0.        , 0.        , 0.        , 0.        ,\n",
       "        0.        , 0.        , 0.        ],\n",
       "       [0.        , 0.        , 0.        , 0.        , 0.        ,\n",
       "        0.        , 0.        , 0.        , 0.        , 0.57254902,\n",
       "        0.76470588, 0.89803922, 0.83137255, 0.89411765, 0.84313725,\n",
       "        0.81960784, 0.90196078, 0.83921569, 0.64313725, 0.21176471,\n",
       "        0.        , 0.        , 0.        , 0.        , 0.        ,\n",
       "        0.        , 0.        , 0.        ],\n",
       "       [0.        , 0.        , 0.        , 0.        , 0.        ,\n",
       "        0.        , 0.        , 0.        , 0.        , 0.45098039,\n",
       "        0.75686275, 0.89019608, 0.81960784, 0.85098039, 0.81960784,\n",
       "        0.83137255, 0.80784314, 0.87843137, 0.64705882, 0.05490196,\n",
       "        0.        , 0.        , 0.        , 0.        , 0.        ,\n",
       "        0.        , 0.        , 0.        ],\n",
       "       [0.        , 0.        , 0.        , 0.        , 0.        ,\n",
       "        0.        , 0.        , 0.        , 0.        , 0.44705882,\n",
       "        0.58039216, 0.71372549, 0.71764706, 0.85490196, 0.88627451,\n",
       "        0.89411765, 0.74509804, 0.80784314, 0.51372549, 0.03921569,\n",
       "        0.        , 0.        , 0.        , 0.        , 0.        ,\n",
       "        0.        , 0.        , 0.        ],\n",
       "       [0.        , 0.        , 0.        , 0.        , 0.        ,\n",
       "        0.        , 0.        , 0.        , 0.        , 0.43921569,\n",
       "        0.46666667, 0.41568627, 0.41176471, 0.74117647, 0.81568627,\n",
       "        0.98431373, 0.64705882, 0.54509804, 0.40784314, 0.0627451 ,\n",
       "        0.        , 0.        , 0.        , 0.        , 0.        ,\n",
       "        0.        , 0.        , 0.        ],\n",
       "       [0.        , 0.        , 0.        , 0.        , 0.        ,\n",
       "        0.        , 0.        , 0.        , 0.        , 0.27843137,\n",
       "        0.54117647, 0.30588235, 0.27843137, 0.57647059, 0.36470588,\n",
       "        0.96470588, 0.53333333, 0.42352941, 0.34117647, 0.02745098,\n",
       "        0.        , 0.        , 0.        , 0.        , 0.        ,\n",
       "        0.        , 0.        , 0.        ],\n",
       "       [0.        , 0.        , 0.        , 0.        , 0.        ,\n",
       "        0.        , 0.        , 0.        , 0.        , 0.31764706,\n",
       "        0.49803922, 0.4       , 0.33333333, 0.57647059, 0.38039216,\n",
       "        0.99215686, 0.54117647, 0.39215686, 0.3254902 , 0.05882353,\n",
       "        0.        , 0.        , 0.        , 0.        , 0.        ,\n",
       "        0.        , 0.        , 0.        ],\n",
       "       [0.        , 0.        , 0.        , 0.        , 0.        ,\n",
       "        0.        , 0.        , 0.        , 0.        , 0.2745098 ,\n",
       "        0.5372549 , 0.39215686, 0.43529412, 0.59215686, 0.19215686,\n",
       "        0.98823529, 0.57647059, 0.41568627, 0.3372549 , 0.03921569,\n",
       "        0.        , 0.        , 0.        , 0.        , 0.        ,\n",
       "        0.        , 0.        , 0.        ],\n",
       "       [0.        , 0.        , 0.        , 0.        , 0.        ,\n",
       "        0.        , 0.        , 0.        , 0.        , 0.23921569,\n",
       "        0.52941176, 0.34509804, 0.39215686, 0.54509804, 0.        ,\n",
       "        0.98823529, 0.61176471, 0.38039216, 0.30980392, 0.01960784,\n",
       "        0.        , 0.        , 0.        , 0.        , 0.        ,\n",
       "        0.        , 0.        , 0.        ],\n",
       "       [0.        , 0.        , 0.        , 0.        , 0.        ,\n",
       "        0.        , 0.        , 0.        , 0.        , 0.22745098,\n",
       "        0.50980392, 0.34117647, 0.38823529, 0.49803922, 0.        ,\n",
       "        0.95686275, 0.63529412, 0.3372549 , 0.29411765, 0.00784314,\n",
       "        0.        , 0.        , 0.        , 0.        , 0.        ,\n",
       "        0.        , 0.        , 0.        ],\n",
       "       [0.        , 0.        , 0.        , 0.        , 0.        ,\n",
       "        0.        , 0.        , 0.        , 0.        , 0.14901961,\n",
       "        0.50588235, 0.34901961, 0.41176471, 0.46666667, 0.        ,\n",
       "        0.90588235, 0.63921569, 0.30588235, 0.19215686, 0.        ,\n",
       "        0.        , 0.        , 0.        , 0.        , 0.        ,\n",
       "        0.        , 0.        , 0.        ],\n",
       "       [0.        , 0.        , 0.        , 0.        , 0.        ,\n",
       "        0.        , 0.        , 0.        , 0.        , 0.05098039,\n",
       "        0.52941176, 0.35294118, 0.45098039, 0.48627451, 0.        ,\n",
       "        0.92156863, 0.59607843, 0.25098039, 0.2       , 0.        ,\n",
       "        0.        , 0.        , 0.        , 0.        , 0.        ,\n",
       "        0.        , 0.        , 0.        ],\n",
       "       [0.        , 0.        , 0.        , 0.        , 0.        ,\n",
       "        0.        , 0.        , 0.        , 0.        , 0.01176471,\n",
       "        0.49019608, 0.30588235, 0.45882353, 0.55686275, 0.        ,\n",
       "        0.87843137, 0.62352941, 0.22352941, 0.1254902 , 0.        ,\n",
       "        0.        , 0.        , 0.        , 0.        , 0.        ,\n",
       "        0.        , 0.        , 0.        ],\n",
       "       [0.        , 0.        , 0.        , 0.        , 0.        ,\n",
       "        0.        , 0.        , 0.        , 0.        , 0.        ,\n",
       "        0.44705882, 0.31372549, 0.4745098 , 0.4745098 , 0.        ,\n",
       "        0.73333333, 0.65882353, 0.24313725, 0.15686275, 0.        ,\n",
       "        0.        , 0.        , 0.        , 0.        , 0.        ,\n",
       "        0.        , 0.        , 0.        ],\n",
       "       [0.        , 0.        , 0.        , 0.        , 0.        ,\n",
       "        0.        , 0.        , 0.        , 0.        , 0.        ,\n",
       "        0.4627451 , 0.38431373, 0.49019608, 0.42352941, 0.        ,\n",
       "        0.56862745, 0.67843137, 0.29803922, 0.20784314, 0.        ,\n",
       "        0.        , 0.        , 0.        , 0.        , 0.        ,\n",
       "        0.        , 0.        , 0.        ],\n",
       "       [0.        , 0.        , 0.        , 0.        , 0.        ,\n",
       "        0.        , 0.        , 0.        , 0.        , 0.        ,\n",
       "        0.5372549 , 0.31764706, 0.67058824, 0.26666667, 0.        ,\n",
       "        0.37254902, 0.78039216, 0.19215686, 0.2       , 0.        ,\n",
       "        0.        , 0.        , 0.        , 0.        , 0.        ,\n",
       "        0.        , 0.        , 0.        ],\n",
       "       [0.        , 0.        , 0.        , 0.        , 0.        ,\n",
       "        0.        , 0.        , 0.        , 0.        , 0.        ,\n",
       "        0.78431373, 0.6745098 , 0.96078431, 0.03137255, 0.        ,\n",
       "        0.2       , 0.85098039, 0.61176471, 0.43137255, 0.        ,\n",
       "        0.        , 0.        , 0.        , 0.        , 0.        ,\n",
       "        0.        , 0.        , 0.        ],\n",
       "       [0.        , 0.        , 0.        , 0.        , 0.        ,\n",
       "        0.        , 0.        , 0.        , 0.        , 0.00392157,\n",
       "        0.79607843, 0.81960784, 0.81960784, 0.        , 0.        ,\n",
       "        0.18431373, 0.90980392, 0.82745098, 0.63137255, 0.        ,\n",
       "        0.        , 0.        , 0.        , 0.        , 0.        ,\n",
       "        0.        , 0.        , 0.        ],\n",
       "       [0.        , 0.        , 0.        , 0.        , 0.        ,\n",
       "        0.        , 0.        , 0.        , 0.        , 0.        ,\n",
       "        0.81960784, 0.85490196, 0.82745098, 0.        , 0.        ,\n",
       "        0.20784314, 0.9254902 , 0.88627451, 0.64705882, 0.        ,\n",
       "        0.        , 0.        , 0.        , 0.        , 0.        ,\n",
       "        0.        , 0.        , 0.        ],\n",
       "       [0.        , 0.        , 0.        , 0.        , 0.        ,\n",
       "        0.        , 0.        , 0.        , 0.        , 0.        ,\n",
       "        0.79607843, 0.8745098 , 0.81176471, 0.        , 0.        ,\n",
       "        0.18823529, 0.91372549, 0.90588235, 0.55294118, 0.        ,\n",
       "        0.        , 0.        , 0.        , 0.        , 0.        ,\n",
       "        0.        , 0.        , 0.        ],\n",
       "       [0.        , 0.        , 0.        , 0.        , 0.        ,\n",
       "        0.        , 0.        , 0.        , 0.        , 0.        ,\n",
       "        0.76078431, 0.90588235, 0.78039216, 0.        , 0.        ,\n",
       "        0.16470588, 0.91764706, 0.91372549, 0.53333333, 0.        ,\n",
       "        0.        , 0.        , 0.        , 0.        , 0.        ,\n",
       "        0.        , 0.        , 0.        ],\n",
       "       [0.        , 0.        , 0.        , 0.        , 0.        ,\n",
       "        0.        , 0.        , 0.        , 0.        , 0.        ,\n",
       "        0.85490196, 0.91764706, 0.78823529, 0.        , 0.        ,\n",
       "        0.11764706, 0.90980392, 0.92156863, 0.49803922, 0.        ,\n",
       "        0.        , 0.        , 0.        , 0.        , 0.        ,\n",
       "        0.        , 0.        , 0.        ],\n",
       "       [0.        , 0.        , 0.        , 0.        , 0.        ,\n",
       "        0.        , 0.        , 0.        , 0.        , 0.        ,\n",
       "        0.76470588, 0.94117647, 0.77254902, 0.        , 0.        ,\n",
       "        0.05098039, 0.89803922, 0.9372549 , 0.41176471, 0.        ,\n",
       "        0.        , 0.        , 0.        , 0.        , 0.        ,\n",
       "        0.        , 0.        , 0.        ],\n",
       "       [0.        , 0.        , 0.        , 0.        , 0.        ,\n",
       "        0.        , 0.        , 0.        , 0.        , 0.        ,\n",
       "        0.47843137, 0.96862745, 0.76470588, 0.        , 0.        ,\n",
       "        0.        , 0.84313725, 0.92941176, 0.29019608, 0.        ,\n",
       "        0.        , 0.        , 0.        , 0.        , 0.        ,\n",
       "        0.        , 0.        , 0.        ],\n",
       "       [0.        , 0.        , 0.        , 0.        , 0.        ,\n",
       "        0.        , 0.        , 0.        , 0.        , 0.        ,\n",
       "        0.44705882, 1.        , 0.75294118, 0.        , 0.        ,\n",
       "        0.        , 0.87843137, 0.97254902, 0.18039216, 0.        ,\n",
       "        0.        , 0.        , 0.        , 0.        , 0.        ,\n",
       "        0.        , 0.        , 0.        ],\n",
       "       [0.        , 0.        , 0.        , 0.        , 0.        ,\n",
       "        0.        , 0.        , 0.        , 0.        , 0.        ,\n",
       "        0.07843137, 0.68235294, 0.39607843, 0.        , 0.        ,\n",
       "        0.        , 0.57254902, 0.57254902, 0.00392157, 0.        ,\n",
       "        0.        , 0.        , 0.        , 0.        , 0.        ,\n",
       "        0.        , 0.        , 0.        ]])"
      ]
     },
     "execution_count": 25,
     "metadata": {},
     "output_type": "execute_result"
    }
   ],
   "source": [
    "X_test[3]"
   ]
  },
  {
   "cell_type": "code",
   "execution_count": 30,
   "id": "8dd929ca",
   "metadata": {},
   "outputs": [
    {
     "data": {
      "text/plain": [
       "array([[0.        , 0.        , 0.        , 0.        , 0.        ,\n",
       "        0.        , 0.        , 0.        , 0.        , 0.        ,\n",
       "        0.        , 0.        , 0.        , 0.        , 0.        ,\n",
       "        0.        , 0.        , 0.        , 0.        , 0.        ,\n",
       "        0.        , 0.        , 0.        , 0.        , 0.        ,\n",
       "        0.        , 0.        , 0.        ],\n",
       "       [0.        , 0.        , 0.        , 0.        , 0.        ,\n",
       "        0.        , 0.        , 0.        , 0.        , 0.        ,\n",
       "        0.        , 0.        , 0.        , 0.        , 0.        ,\n",
       "        0.        , 0.        , 0.        , 0.        , 0.        ,\n",
       "        0.        , 0.        , 0.        , 0.        , 0.        ,\n",
       "        0.        , 0.        , 0.        ],\n",
       "       [0.        , 0.        , 0.        , 0.        , 0.        ,\n",
       "        0.        , 0.        , 0.        , 0.        , 0.        ,\n",
       "        0.        , 0.        , 0.        , 0.        , 0.        ,\n",
       "        0.        , 0.        , 0.        , 0.        , 0.        ,\n",
       "        0.        , 0.        , 0.        , 0.        , 0.        ,\n",
       "        0.        , 0.        , 0.        ],\n",
       "       [0.        , 0.        , 0.        , 0.        , 0.        ,\n",
       "        0.        , 0.        , 0.        , 0.        , 0.        ,\n",
       "        0.        , 0.        , 0.00392157, 0.        , 0.        ,\n",
       "        0.05098039, 0.28627451, 0.        , 0.        , 0.00392157,\n",
       "        0.01568627, 0.        , 0.        , 0.        , 0.        ,\n",
       "        0.00392157, 0.00392157, 0.        ],\n",
       "       [0.        , 0.        , 0.        , 0.        , 0.        ,\n",
       "        0.        , 0.        , 0.        , 0.        , 0.        ,\n",
       "        0.        , 0.        , 0.01176471, 0.        , 0.14117647,\n",
       "        0.53333333, 0.49803922, 0.24313725, 0.21176471, 0.        ,\n",
       "        0.        , 0.        , 0.00392157, 0.01176471, 0.01568627,\n",
       "        0.        , 0.        , 0.01176471],\n",
       "       [0.        , 0.        , 0.        , 0.        , 0.        ,\n",
       "        0.        , 0.        , 0.        , 0.        , 0.        ,\n",
       "        0.        , 0.        , 0.02352941, 0.        , 0.4       ,\n",
       "        0.8       , 0.69019608, 0.5254902 , 0.56470588, 0.48235294,\n",
       "        0.09019608, 0.        , 0.        , 0.        , 0.        ,\n",
       "        0.04705882, 0.03921569, 0.        ],\n",
       "       [0.        , 0.        , 0.        , 0.        , 0.        ,\n",
       "        0.        , 0.        , 0.        , 0.        , 0.        ,\n",
       "        0.        , 0.        , 0.        , 0.        , 0.60784314,\n",
       "        0.9254902 , 0.81176471, 0.69803922, 0.41960784, 0.61176471,\n",
       "        0.63137255, 0.42745098, 0.25098039, 0.09019608, 0.30196078,\n",
       "        0.50980392, 0.28235294, 0.05882353],\n",
       "       [0.        , 0.        , 0.        , 0.        , 0.        ,\n",
       "        0.        , 0.        , 0.        , 0.        , 0.        ,\n",
       "        0.        , 0.00392157, 0.        , 0.27058824, 0.81176471,\n",
       "        0.8745098 , 0.85490196, 0.84705882, 0.84705882, 0.63921569,\n",
       "        0.49803922, 0.4745098 , 0.47843137, 0.57254902, 0.55294118,\n",
       "        0.34509804, 0.6745098 , 0.25882353],\n",
       "       [0.        , 0.        , 0.        , 0.        , 0.        ,\n",
       "        0.        , 0.        , 0.        , 0.        , 0.00392157,\n",
       "        0.00392157, 0.00392157, 0.        , 0.78431373, 0.90980392,\n",
       "        0.90980392, 0.91372549, 0.89803922, 0.8745098 , 0.8745098 ,\n",
       "        0.84313725, 0.83529412, 0.64313725, 0.49803922, 0.48235294,\n",
       "        0.76862745, 0.89803922, 0.        ],\n",
       "       [0.        , 0.        , 0.        , 0.        , 0.        ,\n",
       "        0.        , 0.        , 0.        , 0.        , 0.        ,\n",
       "        0.        , 0.        , 0.        , 0.71764706, 0.88235294,\n",
       "        0.84705882, 0.8745098 , 0.89411765, 0.92156863, 0.89019608,\n",
       "        0.87843137, 0.87058824, 0.87843137, 0.86666667, 0.8745098 ,\n",
       "        0.96078431, 0.67843137, 0.        ],\n",
       "       [0.        , 0.        , 0.        , 0.        , 0.        ,\n",
       "        0.        , 0.        , 0.        , 0.        , 0.        ,\n",
       "        0.        , 0.        , 0.        , 0.75686275, 0.89411765,\n",
       "        0.85490196, 0.83529412, 0.77647059, 0.70588235, 0.83137255,\n",
       "        0.82352941, 0.82745098, 0.83529412, 0.8745098 , 0.8627451 ,\n",
       "        0.95294118, 0.79215686, 0.        ],\n",
       "       [0.        , 0.        , 0.        , 0.        , 0.        ,\n",
       "        0.        , 0.        , 0.        , 0.        , 0.00392157,\n",
       "        0.01176471, 0.        , 0.04705882, 0.85882353, 0.8627451 ,\n",
       "        0.83137255, 0.85490196, 0.75294118, 0.6627451 , 0.89019608,\n",
       "        0.81568627, 0.85490196, 0.87843137, 0.83137255, 0.88627451,\n",
       "        0.77254902, 0.81960784, 0.20392157],\n",
       "       [0.        , 0.        , 0.        , 0.        , 0.        ,\n",
       "        0.        , 0.        , 0.        , 0.        , 0.        ,\n",
       "        0.02352941, 0.        , 0.38823529, 0.95686275, 0.87058824,\n",
       "        0.8627451 , 0.85490196, 0.79607843, 0.77647059, 0.86666667,\n",
       "        0.84313725, 0.83529412, 0.87058824, 0.8627451 , 0.96078431,\n",
       "        0.46666667, 0.65490196, 0.21960784],\n",
       "       [0.        , 0.        , 0.        , 0.        , 0.        ,\n",
       "        0.        , 0.        , 0.        , 0.        , 0.01568627,\n",
       "        0.        , 0.        , 0.21568627, 0.9254902 , 0.89411765,\n",
       "        0.90196078, 0.89411765, 0.94117647, 0.90980392, 0.83529412,\n",
       "        0.85490196, 0.8745098 , 0.91764706, 0.85098039, 0.85098039,\n",
       "        0.81960784, 0.36078431, 0.        ],\n",
       "       [0.        , 0.        , 0.00392157, 0.01568627, 0.02352941,\n",
       "        0.02745098, 0.00784314, 0.        , 0.        , 0.        ,\n",
       "        0.        , 0.        , 0.92941176, 0.88627451, 0.85098039,\n",
       "        0.8745098 , 0.87058824, 0.85882353, 0.87058824, 0.86666667,\n",
       "        0.84705882, 0.8745098 , 0.89803922, 0.84313725, 0.85490196,\n",
       "        1.        , 0.30196078, 0.        ],\n",
       "       [0.        , 0.01176471, 0.        , 0.        , 0.        ,\n",
       "        0.        , 0.        , 0.        , 0.        , 0.24313725,\n",
       "        0.56862745, 0.8       , 0.89411765, 0.81176471, 0.83529412,\n",
       "        0.86666667, 0.85490196, 0.81568627, 0.82745098, 0.85490196,\n",
       "        0.87843137, 0.8745098 , 0.85882353, 0.84313725, 0.87843137,\n",
       "        0.95686275, 0.62352941, 0.        ],\n",
       "       [0.        , 0.        , 0.        , 0.        , 0.07058824,\n",
       "        0.17254902, 0.32156863, 0.41960784, 0.74117647, 0.89411765,\n",
       "        0.8627451 , 0.87058824, 0.85098039, 0.88627451, 0.78431373,\n",
       "        0.80392157, 0.82745098, 0.90196078, 0.87843137, 0.91764706,\n",
       "        0.69019608, 0.7372549 , 0.98039216, 0.97254902, 0.91372549,\n",
       "        0.93333333, 0.84313725, 0.        ],\n",
       "       [0.        , 0.22352941, 0.73333333, 0.81568627, 0.87843137,\n",
       "        0.86666667, 0.87843137, 0.81568627, 0.8       , 0.83921569,\n",
       "        0.81568627, 0.81960784, 0.78431373, 0.62352941, 0.96078431,\n",
       "        0.75686275, 0.80784314, 0.8745098 , 1.        , 1.        ,\n",
       "        0.86666667, 0.91764706, 0.86666667, 0.82745098, 0.8627451 ,\n",
       "        0.90980392, 0.96470588, 0.        ],\n",
       "       [0.01176471, 0.79215686, 0.89411765, 0.87843137, 0.86666667,\n",
       "        0.82745098, 0.82745098, 0.83921569, 0.80392157, 0.80392157,\n",
       "        0.80392157, 0.8627451 , 0.94117647, 0.31372549, 0.58823529,\n",
       "        1.        , 0.89803922, 0.86666667, 0.7372549 , 0.60392157,\n",
       "        0.74901961, 0.82352941, 0.8       , 0.81960784, 0.87058824,\n",
       "        0.89411765, 0.88235294, 0.        ],\n",
       "       [0.38431373, 0.91372549, 0.77647059, 0.82352941, 0.87058824,\n",
       "        0.89803922, 0.89803922, 0.91764706, 0.97647059, 0.8627451 ,\n",
       "        0.76078431, 0.84313725, 0.85098039, 0.94509804, 0.25490196,\n",
       "        0.28627451, 0.41568627, 0.45882353, 0.65882353, 0.85882353,\n",
       "        0.86666667, 0.84313725, 0.85098039, 0.8745098 , 0.8745098 ,\n",
       "        0.87843137, 0.89803922, 0.11372549],\n",
       "       [0.29411765, 0.8       , 0.83137255, 0.8       , 0.75686275,\n",
       "        0.80392157, 0.82745098, 0.88235294, 0.84705882, 0.7254902 ,\n",
       "        0.77254902, 0.80784314, 0.77647059, 0.83529412, 0.94117647,\n",
       "        0.76470588, 0.89019608, 0.96078431, 0.9372549 , 0.8745098 ,\n",
       "        0.85490196, 0.83137255, 0.81960784, 0.87058824, 0.8627451 ,\n",
       "        0.86666667, 0.90196078, 0.2627451 ],\n",
       "       [0.18823529, 0.79607843, 0.71764706, 0.76078431, 0.83529412,\n",
       "        0.77254902, 0.7254902 , 0.74509804, 0.76078431, 0.75294118,\n",
       "        0.79215686, 0.83921569, 0.85882353, 0.86666667, 0.8627451 ,\n",
       "        0.9254902 , 0.88235294, 0.84705882, 0.78039216, 0.80784314,\n",
       "        0.72941176, 0.70980392, 0.69411765, 0.6745098 , 0.70980392,\n",
       "        0.80392157, 0.80784314, 0.45098039],\n",
       "       [0.        , 0.47843137, 0.85882353, 0.75686275, 0.70196078,\n",
       "        0.67058824, 0.71764706, 0.76862745, 0.8       , 0.82352941,\n",
       "        0.83529412, 0.81176471, 0.82745098, 0.82352941, 0.78431373,\n",
       "        0.76862745, 0.76078431, 0.74901961, 0.76470588, 0.74901961,\n",
       "        0.77647059, 0.75294118, 0.69019608, 0.61176471, 0.65490196,\n",
       "        0.69411765, 0.82352941, 0.36078431],\n",
       "       [0.        , 0.        , 0.29019608, 0.74117647, 0.83137255,\n",
       "        0.74901961, 0.68627451, 0.6745098 , 0.68627451, 0.70980392,\n",
       "        0.7254902 , 0.7372549 , 0.74117647, 0.7372549 , 0.75686275,\n",
       "        0.77647059, 0.8       , 0.81960784, 0.82352941, 0.82352941,\n",
       "        0.82745098, 0.7372549 , 0.7372549 , 0.76078431, 0.75294118,\n",
       "        0.84705882, 0.66666667, 0.        ],\n",
       "       [0.00784314, 0.        , 0.        , 0.        , 0.25882353,\n",
       "        0.78431373, 0.87058824, 0.92941176, 0.9372549 , 0.94901961,\n",
       "        0.96470588, 0.95294118, 0.95686275, 0.86666667, 0.8627451 ,\n",
       "        0.75686275, 0.74901961, 0.70196078, 0.71372549, 0.71372549,\n",
       "        0.70980392, 0.69019608, 0.65098039, 0.65882353, 0.38823529,\n",
       "        0.22745098, 0.        , 0.        ],\n",
       "       [0.        , 0.        , 0.        , 0.        , 0.        ,\n",
       "        0.        , 0.        , 0.15686275, 0.23921569, 0.17254902,\n",
       "        0.28235294, 0.16078431, 0.1372549 , 0.        , 0.        ,\n",
       "        0.        , 0.        , 0.        , 0.        , 0.        ,\n",
       "        0.        , 0.        , 0.        , 0.        , 0.        ,\n",
       "        0.        , 0.        , 0.        ],\n",
       "       [0.        , 0.        , 0.        , 0.        , 0.        ,\n",
       "        0.        , 0.        , 0.        , 0.        , 0.        ,\n",
       "        0.        , 0.        , 0.        , 0.        , 0.        ,\n",
       "        0.        , 0.        , 0.        , 0.        , 0.        ,\n",
       "        0.        , 0.        , 0.        , 0.        , 0.        ,\n",
       "        0.        , 0.        , 0.        ],\n",
       "       [0.        , 0.        , 0.        , 0.        , 0.        ,\n",
       "        0.        , 0.        , 0.        , 0.        , 0.        ,\n",
       "        0.        , 0.        , 0.        , 0.        , 0.        ,\n",
       "        0.        , 0.        , 0.        , 0.        , 0.        ,\n",
       "        0.        , 0.        , 0.        , 0.        , 0.        ,\n",
       "        0.        , 0.        , 0.        ]])"
      ]
     },
     "execution_count": 30,
     "metadata": {},
     "output_type": "execute_result"
    }
   ],
   "source": [
    "X_valid[0]"
   ]
  },
  {
   "cell_type": "markdown",
   "id": "dd7599ec",
   "metadata": {},
   "source": [
    "# CREATE ANN USING KNN"
   ]
  },
  {
   "cell_type": "code",
   "execution_count": 33,
   "id": "4b2e5379",
   "metadata": {},
   "outputs": [],
   "source": [
    "np.random.seed(42)\n",
    "tf.random.set_seed(42)"
   ]
  },
  {
   "cell_type": "code",
   "execution_count": 38,
   "id": "30d75ba2",
   "metadata": {},
   "outputs": [],
   "source": [
    "#first create a model\n",
    "#flatten is used because we want to convert the 2d image to 1d\n",
    "model = keras.models.Sequential()\n",
    "model.add(keras.layers.Flatten(input_shape=[28,28]))\n",
    "model.add(keras.layers.Dense(300, activation = \"relu\"))\n",
    "model.add(keras.layers.Dense(100, activation=\"relu\"))\n",
    "model.add(keras.layers.Dense(10, activation=\"softmax\"))"
   ]
  },
  {
   "cell_type": "code",
   "execution_count": 39,
   "id": "001f3d8f",
   "metadata": {},
   "outputs": [
    {
     "name": "stdout",
     "output_type": "stream",
     "text": [
      "Model: \"sequential_2\"\n",
      "_________________________________________________________________\n",
      " Layer (type)                Output Shape              Param #   \n",
      "=================================================================\n",
      " flatten_2 (Flatten)         (None, 784)               0         \n",
      "                                                                 \n",
      " dense_6 (Dense)             (None, 300)               235500    \n",
      "                                                                 \n",
      " dense_7 (Dense)             (None, 100)               30100     \n",
      "                                                                 \n",
      " dense_8 (Dense)             (None, 10)                1010      \n",
      "                                                                 \n",
      "=================================================================\n",
      "Total params: 266,610\n",
      "Trainable params: 266,610\n",
      "Non-trainable params: 0\n",
      "_________________________________________________________________\n"
     ]
    }
   ],
   "source": [
    "model.summary()"
   ]
  },
  {
   "cell_type": "code",
   "execution_count": 41,
   "id": "e6b9def6",
   "metadata": {},
   "outputs": [
    {
     "data": {
      "image/png": "[encoded data removed]",
      "text/plain": [
       "<IPython.core.display.Image object>"
      ]
     },
     "execution_count": 41,
     "metadata": {},
     "output_type": "execute_result"
    }
   ],
   "source": [
    "#to look at the neural network\n",
    "import pydot\n",
    "keras.utils.plot_model(model)"
   ]
  },
  {
   "cell_type": "code",
   "execution_count": 47,
   "id": "a589b0eb",
   "metadata": {},
   "outputs": [],
   "source": [
    "#we can access the information on weight and biases\n",
    "weights, biases = model.layers[1].get_weights()"
   ]
  },
  {
   "cell_type": "code",
   "execution_count": 48,
   "id": "e32d5391",
   "metadata": {},
   "outputs": [
    {
     "data": {
      "text/plain": [
       "array([[-0.06318335,  0.06427416, -0.01333392, ...,  0.02099492,\n",
       "        -0.0191748 ,  0.0432506 ],\n",
       "       [ 0.04066117,  0.01571059,  0.06438872, ...,  0.07346778,\n",
       "        -0.03878252,  0.03664666],\n",
       "       [ 0.05389808, -0.05692989,  0.0257813 , ...,  0.05204493,\n",
       "        -0.02295406, -0.03724655],\n",
       "       ...,\n",
       "       [ 0.01948473,  0.02320559,  0.02791842, ...,  0.04295115,\n",
       "         0.0715258 ,  0.04855895],\n",
       "       [-0.05995618,  0.02797073,  0.05568026, ..., -0.0539132 ,\n",
       "         0.01802883, -0.05966367],\n",
       "       [ 0.02284403, -0.06624383, -0.05173946, ...,  0.02740186,\n",
       "         0.02798107, -0.01138853]], dtype=float32)"
      ]
     },
     "execution_count": 48,
     "metadata": {},
     "output_type": "execute_result"
    }
   ],
   "source": [
    "weights"
   ]
  },
  {
   "cell_type": "code",
   "execution_count": 49,
   "id": "317596d0",
   "metadata": {},
   "outputs": [
    {
     "data": {
      "text/plain": [
       "(784, 300)"
      ]
     },
     "execution_count": 49,
     "metadata": {},
     "output_type": "execute_result"
    }
   ],
   "source": [
    "weights.shape"
   ]
  },
  {
   "cell_type": "code",
   "execution_count": 50,
   "id": "061a2880",
   "metadata": {},
   "outputs": [
    {
     "data": {
      "text/plain": [
       "array([0., 0., 0., 0., 0., 0., 0., 0., 0., 0., 0., 0., 0., 0., 0., 0., 0.,\n",
       "       0., 0., 0., 0., 0., 0., 0., 0., 0., 0., 0., 0., 0., 0., 0., 0., 0.,\n",
       "       0., 0., 0., 0., 0., 0., 0., 0., 0., 0., 0., 0., 0., 0., 0., 0., 0.,\n",
       "       0., 0., 0., 0., 0., 0., 0., 0., 0., 0., 0., 0., 0., 0., 0., 0., 0.,\n",
       "       0., 0., 0., 0., 0., 0., 0., 0., 0., 0., 0., 0., 0., 0., 0., 0., 0.,\n",
       "       0., 0., 0., 0., 0., 0., 0., 0., 0., 0., 0., 0., 0., 0., 0., 0., 0.,\n",
       "       0., 0., 0., 0., 0., 0., 0., 0., 0., 0., 0., 0., 0., 0., 0., 0., 0.,\n",
       "       0., 0., 0., 0., 0., 0., 0., 0., 0., 0., 0., 0., 0., 0., 0., 0., 0.,\n",
       "       0., 0., 0., 0., 0., 0., 0., 0., 0., 0., 0., 0., 0., 0., 0., 0., 0.,\n",
       "       0., 0., 0., 0., 0., 0., 0., 0., 0., 0., 0., 0., 0., 0., 0., 0., 0.,\n",
       "       0., 0., 0., 0., 0., 0., 0., 0., 0., 0., 0., 0., 0., 0., 0., 0., 0.,\n",
       "       0., 0., 0., 0., 0., 0., 0., 0., 0., 0., 0., 0., 0., 0., 0., 0., 0.,\n",
       "       0., 0., 0., 0., 0., 0., 0., 0., 0., 0., 0., 0., 0., 0., 0., 0., 0.,\n",
       "       0., 0., 0., 0., 0., 0., 0., 0., 0., 0., 0., 0., 0., 0., 0., 0., 0.,\n",
       "       0., 0., 0., 0., 0., 0., 0., 0., 0., 0., 0., 0., 0., 0., 0., 0., 0.,\n",
       "       0., 0., 0., 0., 0., 0., 0., 0., 0., 0., 0., 0., 0., 0., 0., 0., 0.,\n",
       "       0., 0., 0., 0., 0., 0., 0., 0., 0., 0., 0., 0., 0., 0., 0., 0., 0.,\n",
       "       0., 0., 0., 0., 0., 0., 0., 0., 0., 0., 0.], dtype=float32)"
      ]
     },
     "execution_count": 50,
     "metadata": {},
     "output_type": "execute_result"
    }
   ],
   "source": [
    "biases"
   ]
  },
  {
   "cell_type": "code",
   "execution_count": 51,
   "id": "78e5dc81",
   "metadata": {},
   "outputs": [
    {
     "data": {
      "text/plain": [
       "(300,)"
      ]
     },
     "execution_count": 51,
     "metadata": {},
     "output_type": "execute_result"
    }
   ],
   "source": [
    "biases.shape"
   ]
  },
  {
   "cell_type": "markdown",
   "id": "b7675c4d",
   "metadata": {},
   "source": [
    "# COMPILE AND TRAIN MODEL"
   ]
  },
  {
   "cell_type": "code",
   "execution_count": 52,
   "id": "a9fdc34a",
   "metadata": {},
   "outputs": [],
   "source": [
    "#https://keras.io/api/models/sequential/"
   ]
  },
  {
   "cell_type": "code",
   "execution_count": 54,
   "id": "015c19fd",
   "metadata": {},
   "outputs": [],
   "source": [
    "model.compile(loss = \"sparse_categorical_crossentropy\",optimizer = \"sgd\", metrics =[\"accuracy\"])"
   ]
  },
  {
   "cell_type": "code",
   "execution_count": 55,
   "id": "93c3f1a7",
   "metadata": {},
   "outputs": [
    {
     "name": "stdout",
     "output_type": "stream",
     "text": [
      "Epoch 1/30\n",
      "1719/1719 [==============================] - 3s 2ms/step - loss: 0.7230 - accuracy: 0.7649 - val_loss: 0.5180 - val_accuracy: 0.8246\n",
      "Epoch 2/30\n",
      "1719/1719 [==============================] - 3s 2ms/step - loss: 0.4854 - accuracy: 0.8289 - val_loss: 0.4338 - val_accuracy: 0.8538\n",
      "Epoch 3/30\n",
      "1719/1719 [==============================] - 3s 2ms/step - loss: 0.4392 - accuracy: 0.8447 - val_loss: 0.5566 - val_accuracy: 0.7956\n",
      "Epoch 4/30\n",
      "1719/1719 [==============================] - 3s 2ms/step - loss: 0.4129 - accuracy: 0.8559 - val_loss: 0.3920 - val_accuracy: 0.8682\n",
      "Epoch 5/30\n",
      "1719/1719 [==============================] - 3s 2ms/step - loss: 0.3945 - accuracy: 0.8615 - val_loss: 0.3747 - val_accuracy: 0.8702\n",
      "Epoch 6/30\n",
      "1719/1719 [==============================] - 3s 2ms/step - loss: 0.3762 - accuracy: 0.8668 - val_loss: 0.3735 - val_accuracy: 0.8692\n",
      "Epoch 7/30\n",
      "1719/1719 [==============================] - 3s 2ms/step - loss: 0.3643 - accuracy: 0.8712 - val_loss: 0.3652 - val_accuracy: 0.8732\n",
      "Epoch 8/30\n",
      "1719/1719 [==============================] - 3s 2ms/step - loss: 0.3531 - accuracy: 0.8753 - val_loss: 0.3783 - val_accuracy: 0.8644\n",
      "Epoch 9/30\n",
      "1719/1719 [==============================] - 3s 2ms/step - loss: 0.3425 - accuracy: 0.8800 - val_loss: 0.3533 - val_accuracy: 0.8750\n",
      "Epoch 10/30\n",
      "1719/1719 [==============================] - 3s 2ms/step - loss: 0.3331 - accuracy: 0.8821 - val_loss: 0.3442 - val_accuracy: 0.8754\n",
      "Epoch 11/30\n",
      "1719/1719 [==============================] - 3s 2ms/step - loss: 0.3245 - accuracy: 0.8849 - val_loss: 0.3443 - val_accuracy: 0.8752\n",
      "Epoch 12/30\n",
      "1719/1719 [==============================] - 3s 2ms/step - loss: 0.3152 - accuracy: 0.8870 - val_loss: 0.3323 - val_accuracy: 0.8810\n",
      "Epoch 13/30\n",
      "1719/1719 [==============================] - 3s 2ms/step - loss: 0.3081 - accuracy: 0.8905 - val_loss: 0.3260 - val_accuracy: 0.8864\n",
      "Epoch 14/30\n",
      "1719/1719 [==============================] - 3s 2ms/step - loss: 0.3016 - accuracy: 0.8920 - val_loss: 0.3437 - val_accuracy: 0.8718\n",
      "Epoch 15/30\n",
      "1719/1719 [==============================] - 3s 2ms/step - loss: 0.2943 - accuracy: 0.8943 - val_loss: 0.3306 - val_accuracy: 0.8814\n",
      "Epoch 16/30\n",
      "1719/1719 [==============================] - 3s 2ms/step - loss: 0.2894 - accuracy: 0.8975 - val_loss: 0.3122 - val_accuracy: 0.8898\n",
      "Epoch 17/30\n",
      "1719/1719 [==============================] - 3s 2ms/step - loss: 0.2837 - accuracy: 0.8987 - val_loss: 0.3514 - val_accuracy: 0.8758\n",
      "Epoch 18/30\n",
      "1719/1719 [==============================] - 3s 2ms/step - loss: 0.2772 - accuracy: 0.8998 - val_loss: 0.3216 - val_accuracy: 0.8864\n",
      "Epoch 19/30\n",
      "1719/1719 [==============================] - 3s 2ms/step - loss: 0.2728 - accuracy: 0.9021 - val_loss: 0.3125 - val_accuracy: 0.8898\n",
      "Epoch 20/30\n",
      "1719/1719 [==============================] - 3s 2ms/step - loss: 0.2671 - accuracy: 0.9042 - val_loss: 0.3260 - val_accuracy: 0.8824\n",
      "Epoch 21/30\n",
      "1719/1719 [==============================] - 3s 2ms/step - loss: 0.2623 - accuracy: 0.9062 - val_loss: 0.3019 - val_accuracy: 0.8948\n",
      "Epoch 22/30\n",
      "1719/1719 [==============================] - 3s 2ms/step - loss: 0.2574 - accuracy: 0.9073 - val_loss: 0.2987 - val_accuracy: 0.8926\n",
      "Epoch 23/30\n",
      "1719/1719 [==============================] - 3s 2ms/step - loss: 0.2533 - accuracy: 0.9084 - val_loss: 0.3020 - val_accuracy: 0.8936\n",
      "Epoch 24/30\n",
      "1719/1719 [==============================] - 3s 2ms/step - loss: 0.2487 - accuracy: 0.9103 - val_loss: 0.3060 - val_accuracy: 0.8896\n",
      "Epoch 25/30\n",
      "1719/1719 [==============================] - 3s 2ms/step - loss: 0.2447 - accuracy: 0.9115 - val_loss: 0.2989 - val_accuracy: 0.8964\n",
      "Epoch 26/30\n",
      "1719/1719 [==============================] - 3s 2ms/step - loss: 0.2402 - accuracy: 0.9136 - val_loss: 0.3031 - val_accuracy: 0.8928\n",
      "Epoch 27/30\n",
      "1719/1719 [==============================] - 3s 2ms/step - loss: 0.2368 - accuracy: 0.9149 - val_loss: 0.3004 - val_accuracy: 0.8922\n",
      "Epoch 28/30\n",
      "1719/1719 [==============================] - 3s 2ms/step - loss: 0.2333 - accuracy: 0.9157 - val_loss: 0.3071 - val_accuracy: 0.8862\n",
      "Epoch 29/30\n",
      "1719/1719 [==============================] - 3s 2ms/step - loss: 0.2283 - accuracy: 0.9180 - val_loss: 0.3151 - val_accuracy: 0.8884\n",
      "Epoch 30/30\n",
      "1719/1719 [==============================] - 3s 2ms/step - loss: 0.2251 - accuracy: 0.9191 - val_loss: 0.3114 - val_accuracy: 0.8916\n"
     ]
    }
   ],
   "source": [
    "model_history = model.fit(X_train,y_train,epochs=30,validation_data=(X_valid,y_valid))"
   ]
  },
  {
   "cell_type": "code",
   "execution_count": 56,
   "id": "41c35ac9",
   "metadata": {},
   "outputs": [
    {
     "data": {
      "text/plain": [
       "{'verbose': 1, 'epochs': 30, 'steps': 1719}"
      ]
     },
     "execution_count": 56,
     "metadata": {},
     "output_type": "execute_result"
    }
   ],
   "source": [
    "model_history.params"
   ]
  },
  {
   "cell_type": "code",
   "execution_count": 57,
   "id": "84e14d5f",
   "metadata": {},
   "outputs": [
    {
     "data": {
      "text/plain": [
       "{'loss': [0.7230185270309448,\n",
       "  0.4853513538837433,\n",
       "  0.4391552805900574,\n",
       "  0.4128629267215729,\n",
       "  0.39450857043266296,\n",
       "  0.37619978189468384,\n",
       "  0.3642691671848297,\n",
       "  0.3530643880367279,\n",
       "  0.34246185421943665,\n",
       "  0.3330588638782501,\n",
       "  0.32447531819343567,\n",
       "  0.3152296841144562,\n",
       "  0.3080987334251404,\n",
       "  0.30164244771003723,\n",
       "  0.29434359073638916,\n",
       "  0.2893541753292084,\n",
       "  0.28369995951652527,\n",
       "  0.2772137522697449,\n",
       "  0.27277565002441406,\n",
       "  0.26712438464164734,\n",
       "  0.26226821541786194,\n",
       "  0.25743281841278076,\n",
       "  0.25328320264816284,\n",
       "  0.2486732453107834,\n",
       "  0.2447185516357422,\n",
       "  0.24022994935512543,\n",
       "  0.2368054836988449,\n",
       "  0.2333090901374817,\n",
       "  0.22830340266227722,\n",
       "  0.22508512437343597],\n",
       " 'accuracy': [0.7649454474449158,\n",
       "  0.8289090991020203,\n",
       "  0.8446545600891113,\n",
       "  0.8558545708656311,\n",
       "  0.8615272641181946,\n",
       "  0.8668181896209717,\n",
       "  0.8711636066436768,\n",
       "  0.8752909302711487,\n",
       "  0.8800181746482849,\n",
       "  0.8820545673370361,\n",
       "  0.8849454522132874,\n",
       "  0.8870182037353516,\n",
       "  0.8904545307159424,\n",
       "  0.8920000195503235,\n",
       "  0.8943454623222351,\n",
       "  0.8974727392196655,\n",
       "  0.8986545205116272,\n",
       "  0.8998000025749207,\n",
       "  0.9020545482635498,\n",
       "  0.9042181968688965,\n",
       "  0.9061636328697205,\n",
       "  0.9072545170783997,\n",
       "  0.9083818197250366,\n",
       "  0.9103090763092041,\n",
       "  0.9114909172058105,\n",
       "  0.9136000275611877,\n",
       "  0.9149090647697449,\n",
       "  0.9157454371452332,\n",
       "  0.9179999828338623,\n",
       "  0.9190909266471863],\n",
       " 'val_loss': [0.5179725289344788,\n",
       "  0.4337650537490845,\n",
       "  0.5566468238830566,\n",
       "  0.3920351266860962,\n",
       "  0.37466368079185486,\n",
       "  0.37348589301109314,\n",
       "  0.36524254083633423,\n",
       "  0.3783321678638458,\n",
       "  0.35330042243003845,\n",
       "  0.34419238567352295,\n",
       "  0.3442733585834503,\n",
       "  0.33225223422050476,\n",
       "  0.32600367069244385,\n",
       "  0.343700647354126,\n",
       "  0.33062082529067993,\n",
       "  0.31219449639320374,\n",
       "  0.3514402210712433,\n",
       "  0.32155078649520874,\n",
       "  0.31246036291122437,\n",
       "  0.32603490352630615,\n",
       "  0.30187365412712097,\n",
       "  0.298679381608963,\n",
       "  0.3020419776439667,\n",
       "  0.3060077726840973,\n",
       "  0.29893770813941956,\n",
       "  0.3031472861766815,\n",
       "  0.30038151144981384,\n",
       "  0.3070925176143646,\n",
       "  0.3151371479034424,\n",
       "  0.3114217519760132],\n",
       " 'val_accuracy': [0.8245999813079834,\n",
       "  0.8537999987602234,\n",
       "  0.7955999970436096,\n",
       "  0.8682000041007996,\n",
       "  0.870199978351593,\n",
       "  0.8691999912261963,\n",
       "  0.873199999332428,\n",
       "  0.8644000291824341,\n",
       "  0.875,\n",
       "  0.8754000067710876,\n",
       "  0.8751999735832214,\n",
       "  0.8809999823570251,\n",
       "  0.8863999843597412,\n",
       "  0.8718000054359436,\n",
       "  0.8813999891281128,\n",
       "  0.8898000121116638,\n",
       "  0.8758000135421753,\n",
       "  0.8863999843597412,\n",
       "  0.8898000121116638,\n",
       "  0.8823999762535095,\n",
       "  0.8948000073432922,\n",
       "  0.8925999999046326,\n",
       "  0.8935999870300293,\n",
       "  0.8895999789237976,\n",
       "  0.896399974822998,\n",
       "  0.892799973487854,\n",
       "  0.8921999931335449,\n",
       "  0.8862000107765198,\n",
       "  0.8884000182151794,\n",
       "  0.8916000127792358]}"
      ]
     },
     "execution_count": 57,
     "metadata": {},
     "output_type": "execute_result"
    }
   ],
   "source": [
    "model_history.history"
   ]
  },
  {
   "cell_type": "code",
   "execution_count": 59,
   "id": "3ecb1567",
   "metadata": {},
   "outputs": [
    {
     "data": {
      "image/png": "[encoded data removed]",
      "text/plain": [
       "<Figure size 576x360 with 1 Axes>"
      ]
     },
     "metadata": {
      "needs_background": "light"
     },
     "output_type": "display_data"
    }
   ],
   "source": [
    "#to plot how our accuracy are changing with each epoch\n",
    "\n",
    "pd.DataFrame(model_history.history).plot(figsize = (8,5))\n",
    "plt.grid(True)\n",
    "plt.gca().set_ylim(0,1)\n",
    "plt.show()"
   ]
  },
  {
   "cell_type": "code",
   "execution_count": 60,
   "id": "0d0a50ac",
   "metadata": {},
   "outputs": [],
   "source": [
    "#with each epoch, the training accuracy and the validation accuracy is increasing and the loss is decreasing \n",
    "#the model as not converge yet tho\n",
    "#so it needs more epoch. "
   ]
  },
  {
   "cell_type": "markdown",
   "id": "c62d4024",
   "metadata": {},
   "source": [
    "# To evaluate Performance"
   ]
  },
  {
   "cell_type": "code",
   "execution_count": 61,
   "id": "aba08b00",
   "metadata": {},
   "outputs": [
    {
     "name": "stdout",
     "output_type": "stream",
     "text": [
      "313/313 [==============================] - 0s 1ms/step - loss: 0.3411 - accuracy: 0.8790\n"
     ]
    },
    {
     "data": {
      "text/plain": [
       "[0.3410642743110657, 0.8790000081062317]"
      ]
     },
     "execution_count": 61,
     "metadata": {},
     "output_type": "execute_result"
    }
   ],
   "source": [
    "model.evaluate(X_test,y_test)"
   ]
  },
  {
   "cell_type": "code",
   "execution_count": 62,
   "id": "d48c320b",
   "metadata": {},
   "outputs": [],
   "source": [
    "#the first is loss and the second is accuracy(0.879)."
   ]
  },
  {
   "cell_type": "markdown",
   "id": "d4af608f",
   "metadata": {},
   "source": [
    "# PREDICT PROBABLITIES AND PREDICT CLASS OF NEW UNSEEN DATA"
   ]
  },
  {
   "cell_type": "code",
   "execution_count": 63,
   "id": "e496623b",
   "metadata": {},
   "outputs": [],
   "source": [
    "X_new = X_test[:3]"
   ]
  },
  {
   "cell_type": "code",
   "execution_count": 65,
   "id": "9fe46e41",
   "metadata": {},
   "outputs": [
    {
     "name": "stdout",
     "output_type": "stream",
     "text": [
      "1/1 [==============================] - 0s 22ms/step\n"
     ]
    },
    {
     "data": {
      "text/plain": [
       "array([[0.  , 0.  , 0.  , 0.  , 0.  , 0.02, 0.  , 0.03, 0.  , 0.96],\n",
       "       [0.  , 0.  , 1.  , 0.  , 0.  , 0.  , 0.  , 0.  , 0.  , 0.  ],\n",
       "       [0.  , 1.  , 0.  , 0.  , 0.  , 0.  , 0.  , 0.  , 0.  , 0.  ]],\n",
       "      dtype=float32)"
      ]
     },
     "execution_count": 65,
     "metadata": {},
     "output_type": "execute_result"
    }
   ],
   "source": [
    "#to predict probablity score attached to each class\n",
    "y_proba = model.predict(X_new)\n",
    "y_proba.round(2)"
   ]
  },
  {
   "cell_type": "code",
   "execution_count": 68,
   "id": "02ecb58f",
   "metadata": {
    "scrolled": true
   },
   "outputs": [
    {
     "name": "stdout",
     "output_type": "stream",
     "text": [
      "AxesImage(54,36;334.8x217.44)\n"
     ]
    },
    {
     "data": {
      "image/png": "[encoded data removed]",
      "text/plain": [
       "<Figure size 432x288 with 1 Axes>"
      ]
     },
     "metadata": {
      "needs_background": "light"
     },
     "output_type": "display_data"
    }
   ],
   "source": [
    "#to plot the image of the datasets\n",
    "print(plt.imshow(X_test[0]))"
   ]
  },
  {
   "cell_type": "code",
   "execution_count": 70,
   "id": "66bd158d",
   "metadata": {},
   "outputs": [
    {
     "name": "stdout",
     "output_type": "stream",
     "text": [
      "AxesImage(54,36;334.8x217.44)\n"
     ]
    },
    {
     "data": {
      "image/png": "[encoded data removed]",
      "text/plain": [
       "<Figure size 432x288 with 1 Axes>"
      ]
     },
     "metadata": {
      "needs_background": "light"
     },
     "output_type": "display_data"
    }
   ],
   "source": [
    "print(plt.imshow(X_test[1]))"
   ]
  },
  {
   "cell_type": "code",
   "execution_count": 71,
   "id": "3710b7fb",
   "metadata": {},
   "outputs": [
    {
     "name": "stdout",
     "output_type": "stream",
     "text": [
      "AxesImage(54,36;334.8x217.44)\n"
     ]
    },
    {
     "data": {
      "image/png": "[encoded data removed]",
      "text/plain": [
       "<Figure size 432x288 with 1 Axes>"
      ]
     },
     "metadata": {
      "needs_background": "light"
     },
     "output_type": "display_data"
    }
   ],
   "source": [
    "print(plt.imshow(X_test[2]))"
   ]
  },
  {
   "cell_type": "code",
   "execution_count": null,
   "id": "ec40b099",
   "metadata": {},
   "outputs": [],
   "source": []
  },
  {
   "cell_type": "code",
   "execution_count": null,
   "id": "a145f645",
   "metadata": {},
   "outputs": [],
   "source": []
  }
 ],
 "metadata": {
  "kernelspec": {
   "display_name": "Python 3 (ipykernel)",
   "language": "python",
   "name": "python3"
  },
  "language_info": {
   "codemirror_mode": {
    "name": "ipython",
    "version": 3
   },
   "file_extension": ".py",
   "mimetype": "text/x-python",
   "name": "python",
   "nbconvert_exporter": "python",
   "pygments_lexer": "ipython3",
   "version": "3.9.7"
  }
 },
 "nbformat": 4,
 "nbformat_minor": 5
}
